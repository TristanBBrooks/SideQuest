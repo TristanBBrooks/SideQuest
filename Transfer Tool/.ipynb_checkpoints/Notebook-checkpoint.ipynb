{
 "cells": [
  {
   "cell_type": "code",
   "execution_count": 19,
   "metadata": {},
   "outputs": [
    {
     "name": "stdout",
     "output_type": "stream",
     "text": [
      "{'Burly Rockjaw Trogg': 1, 'Ragged Young Wolf': 1}\n",
      "Burly Rockjaw Trogg\n",
      "{'action': 'takeKills', 'mobName': 'Burly Rockjaw Trogg', 'mobKills': 1, 'profileID': 1}\n",
      "<Response [200]>\n",
      "Ragged Young Wolf\n",
      "{'action': 'takeKills', 'mobName': 'Ragged Young Wolf', 'mobKills': 1, 'profileID': 1}\n",
      "<Response [200]>\n"
     ]
    }
   ],
   "source": [
    "import datetime\n",
    "import requests\n",
    "    \n",
    "def getInventory():\n",
    "    \n",
    "    inventory = {}\n",
    "    \n",
    "    # Declare strings keyphrases\n",
    "    you_slayed = \"You have slain \"\n",
    "\n",
    "    # Open Combat Log and attempt to read our kills\n",
    "    combat_file = open(combat_log, \"r\")\n",
    "    # print(combat_file.read())\n",
    "    for line in combat_file:\n",
    "        line_parts = line.split(\"  \")\n",
    "        if you_slayed not in line_parts[1]:\n",
    "            continue\n",
    "        else:\n",
    "            # print(line_parts)\n",
    "            temp = \"\"\n",
    "            unit_name = \"\"\n",
    "            for char in line_parts[1]:\n",
    "                if (char == \"!\"):\n",
    "                    break\n",
    "                if (temp == you_slayed):\n",
    "                    unit_name += char\n",
    "                else:\n",
    "                    temp += char\n",
    "            if unit_name in inventory:\n",
    "                new_value = inventory[unit_name] + 1\n",
    "                inventory[unit_name] = new_value\n",
    "            else:\n",
    "                inventory[unit_name] = 1\n",
    "    combat_file.close();\n",
    "    # print(\"---done consuming---\")\n",
    "    print(inventory)\n",
    "    return inventory\n",
    "\n",
    "# Declare our filenames\n",
    "combat_log = 'WoWCombatLog.txt'\n",
    "chat_log = 'WoWChatLog.txt'\n",
    "inventory = 'SideQuestInventory.txt'\n",
    "\n",
    "# Declare our url for our php api\n",
    "url = \"http://tbrooks.create.stedwards.edu/SideQuest/API.php\"\n",
    "\n",
    "# Declare player id\n",
    "profile_id = 1\n",
    "\n",
    "inventory = getInventory()\n",
    "\n",
    "# format of dict to send kills over\n",
    "parameters = {'action':'takeKills', 'mobName':'', 'mobKills':0, 'profileID':profile_id}\n",
    "\n",
    "for thing in inventory:\n",
    "    parameters['mobName'] = thing\n",
    "    parameters['mobKills'] = inventory[thing]\n",
    "    r = requests.get(url = url, params = parameters)"
   ]
  },
  {
   "cell_type": "code",
   "execution_count": null,
   "metadata": {},
   "outputs": [],
   "source": []
  }
 ],
 "metadata": {
  "kernelspec": {
   "display_name": "Python 3",
   "language": "python",
   "name": "python3"
  },
  "language_info": {
   "codemirror_mode": {
    "name": "ipython",
    "version": 3
   },
   "file_extension": ".py",
   "mimetype": "text/x-python",
   "name": "python",
   "nbconvert_exporter": "python",
   "pygments_lexer": "ipython3",
   "version": "3.6.3"
  }
 },
 "nbformat": 4,
 "nbformat_minor": 2
}
